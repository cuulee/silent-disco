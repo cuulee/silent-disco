{
  "nbformat": 4,
  "nbformat_minor": 0,
  "metadata": {
    "colab": {
      "name": "bsql_table_from_pandas_cuDF_and_BlazingSQL.ipynb",
      "provenance": [],
      "authorship_tag": "ABX9TyOHM1VnVbzNGymgfP1Tkbc1",
      "include_colab_link": true
    },
    "kernelspec": {
      "name": "python3",
      "display_name": "Python 3"
    }
  },
  "cells": [
    {
      "cell_type": "markdown",
      "metadata": {
        "id": "view-in-github",
        "colab_type": "text"
      },
      "source": [
        "<a href=\"https://colab.research.google.com/github/gumdropsteve/silent-disco/blob/master/bsql_table_from_pandas_cuDF_and_BlazingSQL.ipynb\" target=\"_parent\"><img src=\"https://colab.research.google.com/assets/colab-badge.svg\" alt=\"Open In Colab\"/></a>"
      ]
    },
    {
      "cell_type": "markdown",
      "metadata": {
        "id": "F9ntYk_UBptt",
        "colab_type": "text"
      },
      "source": [
        "#### Data Check / Download\n",
        "The below cell will check if you have the data for this demo and download it for you if not."
      ]
    },
    {
      "cell_type": "code",
      "metadata": {
        "id": "HYlQXq_M_iUk",
        "colab_type": "code",
        "colab": {
          "base_uri": "https://localhost:8080/",
          "height": 87
        },
        "outputId": "3cbfcb47-e423-4523-bc4a-2a2512d5bb77"
      },
      "source": [
        "import os\n",
        "import urllib\n",
        "\n",
        "# check for existance of data directory\n",
        "if not os.path.exists('data/'):\n",
        "    # it does not, so let us know & create it\n",
        "    print('creating data directory')\n",
        "    os.system('mkdir data')\n",
        "\n",
        "# base url to raw data on GitHub \n",
        "base_url = 'https://raw.githubusercontent.com/gumdropsteve/turbo-telegram/master/data/'\n",
        "\n",
        "# download jan-mar 2015 taxi data\n",
        "for month in ['jan', 'feb', 'march']:\n",
        "  fn = f'nyc_taxi_{month}15.csv'\n",
        "  # check if we already have the file\n",
        "  if not os.path.isfile(f'data/{fn}'):\n",
        "      # we don't let me know we're downloading it now\n",
        "      print(f'Downloading {base_url + fn} to data/{fn}')\n",
        "      # download file\n",
        "      urllib.request.urlretrieve(base_url + fn, f'data/{fn}')\n",
        "  # we already have data\n",
        "  else:\n",
        "      # let us know\n",
        "      print(f'{fn} already downloaded')\n",
        "    \n",
        "# identify current working directory & wildcard path to data\n",
        "cwd = os.getcwd()\n",
        "data_path = f'{cwd}/data/nyc_taxi_*.csv'"
      ],
      "execution_count": 8,
      "outputs": [
        {
          "output_type": "stream",
          "text": [
            "creating blazingsql directory\n",
            "Downloading https://raw.githubusercontent.com/gumdropsteve/turbo-telegram/master/data/nyc_taxi_jan15.csv to data/nyc_taxi_jan15.csv\n",
            "Downloading https://raw.githubusercontent.com/gumdropsteve/turbo-telegram/master/data/nyc_taxi_feb15.csv to data/nyc_taxi_feb15.csv\n",
            "Downloading https://raw.githubusercontent.com/gumdropsteve/turbo-telegram/master/data/nyc_taxi_march15.csv to data/nyc_taxi_march15.csv\n"
          ],
          "name": "stdout"
        }
      ]
    },
    {
      "cell_type": "markdown",
      "metadata": {
        "id": "7Z0FRWXTCioI",
        "colab_type": "text"
      },
      "source": [
        "## Imports"
      ]
    },
    {
      "cell_type": "code",
      "metadata": {
        "id": "Y1oG37rYCFGr",
        "colab_type": "code",
        "colab": {}
      },
      "source": [
        "import cudf\n",
        "import pandas as pd\n",
        "from blazingsql import BlazingContext\n",
        "# connect to BlazingSQL\n",
        "bc = BlazingContext()"
      ],
      "execution_count": 0,
      "outputs": []
    },
    {
      "cell_type": "markdown",
      "metadata": {
        "id": "CyE7sumQB3XS",
        "colab_type": "text"
      },
      "source": [
        "### pandas -> BlazingSQL"
      ]
    },
    {
      "cell_type": "code",
      "metadata": {
        "id": "InXEdCCZBmm_",
        "colab_type": "code",
        "colab": {}
      },
      "source": [
        "%%time\n",
        "# create pandas DataFrame\n",
        "df = pd.read_csv('data/nyc_taxi_jan15.csv')\n",
        "\n",
        "# create BlazingSQL table from pandas DataFrame\n",
        "bc.create_table('pd_taxi', df)\n",
        "\n",
        "# query BlazingSQL table & display last 3 rows\n",
        "bc.sql('SELECT * FROM pd_taxi').tail(3)"
      ],
      "execution_count": 0,
      "outputs": []
    },
    {
      "cell_type": "markdown",
      "metadata": {
        "id": "6x9Gsrt9B78U",
        "colab_type": "text"
      },
      "source": [
        "### cuDF -> BlazingSQL"
      ]
    },
    {
      "cell_type": "code",
      "metadata": {
        "id": "zXp4GwJyBvJb",
        "colab_type": "code",
        "colab": {}
      },
      "source": [
        "%%time\n",
        "# create pandas DataFrame\n",
        "df = pd.read_csv('data/nyc_taxi_jan15.csv')\n",
        "\n",
        "# create BlazingSQL table from pandas DataFrame\n",
        "bc.create_table('pd_taxi', df)\n",
        "\n",
        "# query BlazingSQL table & display last 3 rows\n",
        "bc.sql('SELECT * FROM pd_taxi').tail(3)"
      ],
      "execution_count": 0,
      "outputs": []
    },
    {
      "cell_type": "markdown",
      "metadata": {
        "id": "RM3nhjtVBvcb",
        "colab_type": "text"
      },
      "source": [
        "### BlazingSQL -> BlazingSQL"
      ]
    },
    {
      "cell_type": "code",
      "metadata": {
        "id": "XIO-gTTuAV8s",
        "colab_type": "code",
        "colab": {}
      },
      "source": [
        "%%time\n",
        "# create BlazingSQL table from 3 CSV files jan-mar 2015\n",
        "bc.create_table('q1_2015', '/home/winston@blazingdb.com/turbo-telegram/data/nyc_taxi_*.csv', header=0)\n",
        "\n",
        "# create BlazingSQL table from BlazingSQL query results\n",
        "bc.create_table('single_10mile', bc.sql('SELECT * FROM q1_2015 WHERE trip_distance > 10 AND passenger_count = 1'))\n",
        "\n",
        "# pull payment info from january query results table\n",
        "bc.sql('SELECT payment_type, fare_amount, extra, mta_tax, tip_amount, tolls_amount, total_amount FROM single_10mile')"
      ],
      "execution_count": 0,
      "outputs": []
    }
  ]
}