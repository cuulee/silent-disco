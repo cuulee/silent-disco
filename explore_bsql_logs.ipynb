{
 "cells": [
  {
   "cell_type": "code",
   "execution_count": 1,
   "metadata": {},
   "outputs": [
    {
     "name": "stdout",
     "output_type": "stream",
     "text": [
      "BlazingContext ready\n"
     ]
    }
   ],
   "source": [
    "from blazingsql import BlazingContext\n",
    "# start up BlazingSQL\n",
    "bc = BlazingContext()"
   ]
  },
  {
   "cell_type": "markdown",
   "metadata": {},
   "source": [
    "### Runtime info & cuDF results\n",
    "- query `bsql_logs` for runtime info\n",
    "- have some fun with cuDF methods \n",
    "  - note: BlazingSQL query results return as cuDF DataFrames, and can therefore easily make use of cuDF methods"
   ]
  },
  {
   "cell_type": "code",
   "execution_count": 2,
   "metadata": {},
   "outputs": [
    {
     "name": "stdout",
     "output_type": "stream",
     "text": [
      "           query_id  load_time  total_time\n",
      "count     56.000000  56.000000   56.000000\n",
      "mean   31109.267857   3.816798    5.130908\n",
      "std    16458.234992   1.555298    3.305104\n",
      "min      352.000000   1.191662    2.291305\n",
      "25%    16223.750000   2.887372    2.989326\n",
      "50%    31480.000000   3.268019    3.726566\n",
      "75%    46414.000000   4.259069    6.511285\n",
      "max    57977.000000   7.628008   15.662748\n"
     ]
    },
    {
     "data": {
      "text/html": [
       "<div>\n",
       "<style scoped>\n",
       "    .dataframe tbody tr th:only-of-type {\n",
       "        vertical-align: middle;\n",
       "    }\n",
       "\n",
       "    .dataframe tbody tr th {\n",
       "        vertical-align: top;\n",
       "    }\n",
       "\n",
       "    .dataframe thead th {\n",
       "        text-align: right;\n",
       "    }\n",
       "</style>\n",
       "<table border=\"1\" class=\"dataframe\">\n",
       "  <thead>\n",
       "    <tr style=\"text-align: right;\">\n",
       "      <th></th>\n",
       "      <th>query_id</th>\n",
       "      <th>load_time</th>\n",
       "      <th>end_time</th>\n",
       "      <th>total_time</th>\n",
       "    </tr>\n",
       "  </thead>\n",
       "  <tbody>\n",
       "    <tr>\n",
       "      <th>3</th>\n",
       "      <td>17528</td>\n",
       "      <td>5.728122</td>\n",
       "      <td>2020-01-15 00:38:00</td>\n",
       "      <td>10.382488</td>\n",
       "    </tr>\n",
       "    <tr>\n",
       "      <th>40</th>\n",
       "      <td>22684</td>\n",
       "      <td>2.648391</td>\n",
       "      <td>2020-01-10 01:28:05</td>\n",
       "      <td>2.758080</td>\n",
       "    </tr>\n",
       "    <tr>\n",
       "      <th>53</th>\n",
       "      <td>51427</td>\n",
       "      <td>2.771451</td>\n",
       "      <td>2020-01-10 01:11:20</td>\n",
       "      <td>2.861178</td>\n",
       "    </tr>\n",
       "    <tr>\n",
       "      <th>0</th>\n",
       "      <td>31060</td>\n",
       "      <td>7.207241</td>\n",
       "      <td>2020-01-15 00:41:16</td>\n",
       "      <td>12.485735</td>\n",
       "    </tr>\n",
       "    <tr>\n",
       "      <th>37</th>\n",
       "      <td>16145</td>\n",
       "      <td>4.607126</td>\n",
       "      <td>2020-01-10 01:34:15</td>\n",
       "      <td>4.728696</td>\n",
       "    </tr>\n",
       "  </tbody>\n",
       "</table>\n",
       "</div>"
      ],
      "text/plain": [
       "    query_id  load_time            end_time  total_time\n",
       "3      17528   5.728122 2020-01-15 00:38:00   10.382488\n",
       "40     22684   2.648391 2020-01-10 01:28:05    2.758080\n",
       "53     51427   2.771451 2020-01-10 01:11:20    2.861178\n",
       "0      31060   7.207241 2020-01-15 00:41:16   12.485735\n",
       "37     16145   4.607126 2020-01-10 01:34:15    4.728696"
      ]
     },
     "execution_count": 2,
     "metadata": {},
     "output_type": "execute_result"
    }
   ],
   "source": [
    "# determine data load time & total time for all queries, showing the latest ones first\n",
    "log_query = \"\"\"\n",
    "            SELECT\n",
    "                query_id, \n",
    "                MAX(load_time) AS load_time, \n",
    "                MAX(end_time) as end_time, \n",
    "                MAX(total_time) AS total_time \n",
    "            FROM (\n",
    "                SELECT \n",
    "                    query_id, \n",
    "                    MAX(log_time) AS end_time,\n",
    "                    SUM(CASE WHEN info = 'evaluate_split_query load_data' THEN duration ELSE 0 END) AS load_time,\n",
    "                    SUM(CASE WHEN info = 'Query Execution Done' THEN duration ELSE 0 END) AS total_time\n",
    "                FROM \n",
    "                    bsql_logs\n",
    "                WHERE \n",
    "                    info = 'evaluate_split_query load_data' \n",
    "                    OR info = 'Query Execution Done'\n",
    "                GROUP BY \n",
    "                    query_id \n",
    "                )\n",
    "            GROUP BY\n",
    "                query_id\n",
    "            ORDER BY\n",
    "                end_time DESC\n",
    "                \"\"\"\n",
    "\n",
    "# save results to parquet w/ cuDF .to_csv() \n",
    "bc.log(log_query).to_csv('bsql_log.csv', index=False)\n",
    "\n",
    "# share discription of results\n",
    "print(bc.log(log_query).describe())\n",
    "\n",
    "# let's see a sample w/ .sample() via cuDF .to_pandas()\n",
    "bc.log(log_query).to_pandas().sample(5)"
   ]
  }
 ],
 "metadata": {
  "kernelspec": {
   "display_name": "Python 3",
   "language": "python",
   "name": "python3"
  },
  "language_info": {
   "codemirror_mode": {
    "name": "ipython",
    "version": 3
   },
   "file_extension": ".py",
   "mimetype": "text/x-python",
   "name": "python",
   "nbconvert_exporter": "python",
   "pygments_lexer": "ipython3",
   "version": "3.7.6"
  }
 },
 "nbformat": 4,
 "nbformat_minor": 2
}
