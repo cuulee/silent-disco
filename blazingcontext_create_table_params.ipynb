{
 "cells": [
  {
   "cell_type": "code",
   "execution_count": 1,
   "metadata": {},
   "outputs": [
    {
     "name": "stdout",
     "output_type": "stream",
     "text": [
      "BlazingContext ready\n"
     ]
    }
   ],
   "source": [
    "from blazingsql import BlazingContext\n",
    "# start up BlazingSQL\n",
    "bc = BlazingContext()"
   ]
  },
  {
   "cell_type": "code",
   "execution_count": 2,
   "metadata": {},
   "outputs": [
    {
     "data": {
      "text/plain": [
       "'/home/winston/silent-disco/data/churn.csv'"
      ]
     },
     "execution_count": 2,
     "metadata": {},
     "output_type": "execute_result"
    }
   ],
   "source": [
    "import os\n",
    "# identify path to data\n",
    "path = os.getcwd()\n",
    "path = path + '/data/churn.csv'\n",
    "path"
   ]
  },
  {
   "cell_type": "code",
   "execution_count": 3,
   "metadata": {},
   "outputs": [
    {
     "data": {
      "text/html": [
       "<div>\n",
       "<style scoped>\n",
       "    .dataframe tbody tr th:only-of-type {\n",
       "        vertical-align: middle;\n",
       "    }\n",
       "\n",
       "    .dataframe tbody tr th {\n",
       "        vertical-align: top;\n",
       "    }\n",
       "\n",
       "    .dataframe thead th {\n",
       "        text-align: right;\n",
       "    }\n",
       "</style>\n",
       "<table border=\"1\" class=\"dataframe\">\n",
       "  <thead>\n",
       "    <tr style=\"text-align: right;\">\n",
       "      <th></th>\n",
       "      <th>luxury_car_user</th>\n",
       "      <th>trips_in_first_30_days</th>\n",
       "      <th>avg_dist</th>\n",
       "      <th>sum_rating</th>\n",
       "      <th>surge_pct</th>\n",
       "      <th>weekday_pct</th>\n",
       "    </tr>\n",
       "  </thead>\n",
       "  <tbody>\n",
       "    <tr>\n",
       "      <th>0</th>\n",
       "      <td>1</td>\n",
       "      <td>1</td>\n",
       "      <td>1.82</td>\n",
       "      <td>8.5</td>\n",
       "      <td>0.0</td>\n",
       "      <td>100.0</td>\n",
       "    </tr>\n",
       "    <tr>\n",
       "      <th>1</th>\n",
       "      <td>0</td>\n",
       "      <td>1</td>\n",
       "      <td>8.74</td>\n",
       "      <td>null</td>\n",
       "      <td>0.0</td>\n",
       "      <td>100.0</td>\n",
       "    </tr>\n",
       "    <tr>\n",
       "      <th>2</th>\n",
       "      <td>0</td>\n",
       "      <td>4</td>\n",
       "      <td>1.53</td>\n",
       "      <td>9.5</td>\n",
       "      <td>0.0</td>\n",
       "      <td>0.0</td>\n",
       "    </tr>\n",
       "    <tr>\n",
       "      <th>3</th>\n",
       "      <td>1</td>\n",
       "      <td>0</td>\n",
       "      <td>1.80</td>\n",
       "      <td>10.0</td>\n",
       "      <td>0.0</td>\n",
       "      <td>100.0</td>\n",
       "    </tr>\n",
       "    <tr>\n",
       "      <th>4</th>\n",
       "      <td>1</td>\n",
       "      <td>1</td>\n",
       "      <td>12.49</td>\n",
       "      <td>9.0</td>\n",
       "      <td>0.0</td>\n",
       "      <td>25.0</td>\n",
       "    </tr>\n",
       "  </tbody>\n",
       "</table>\n",
       "</div>"
      ],
      "text/plain": [
       "   luxury_car_user  trips_in_first_30_days  avg_dist sum_rating  surge_pct  \\\n",
       "0                1                       1      1.82        8.5        0.0   \n",
       "1                0                       1      8.74       null        0.0   \n",
       "2                0                       4      1.53        9.5        0.0   \n",
       "3                1                       0      1.80       10.0        0.0   \n",
       "4                1                       1     12.49        9.0        0.0   \n",
       "\n",
       "   weekday_pct  \n",
       "0        100.0  \n",
       "1        100.0  \n",
       "2          0.0  \n",
       "3        100.0  \n",
       "4         25.0  "
      ]
     },
     "execution_count": 3,
     "metadata": {},
     "output_type": "execute_result"
    }
   ],
   "source": [
    "# tag column names\n",
    "col_names = ['luxury_car_user', 'trips_in_first_30_days', 'avg_dist',\n",
    "             'avg_rating_by_driver', 'avg_rating_of_driver', 'surge_pct', 'weekday_pct']\n",
    "# read in luxury_car_user as default (str) \n",
    "bc.create_table('tf_bool', path, names=col_names,\n",
    "                true_values=['Yes'], false_values=['No', 'N/a'],\n",
    "                skiprows=249, nrows=850)\n",
    "\n",
    "# how's it look?\n",
    "bc.sql('''\n",
    "       select \n",
    "           luxury_car_user, trips_in_first_30_days, avg_dist, \n",
    "           avg_rating_by_driver + avg_rating_of_driver AS sum_rating, \n",
    "           surge_pct, weekday_pct \n",
    "       from \n",
    "           tf_bool\n",
    "       ''').head()"
   ]
  },
  {
   "cell_type": "code",
   "execution_count": 4,
   "metadata": {},
   "outputs": [
    {
     "data": {
      "text/html": [
       "<div>\n",
       "<style scoped>\n",
       "    .dataframe tbody tr th:only-of-type {\n",
       "        vertical-align: middle;\n",
       "    }\n",
       "\n",
       "    .dataframe tbody tr th {\n",
       "        vertical-align: top;\n",
       "    }\n",
       "\n",
       "    .dataframe thead th {\n",
       "        text-align: right;\n",
       "    }\n",
       "</style>\n",
       "<table border=\"1\" class=\"dataframe\">\n",
       "  <thead>\n",
       "    <tr style=\"text-align: right;\">\n",
       "      <th></th>\n",
       "      <th>luxury_car_user</th>\n",
       "      <th>trips_in_first_30_days</th>\n",
       "      <th>avg_dist</th>\n",
       "      <th>sum_rating</th>\n",
       "      <th>surge_pct</th>\n",
       "      <th>weekday_pct</th>\n",
       "    </tr>\n",
       "  </thead>\n",
       "  <tbody>\n",
       "    <tr>\n",
       "      <th>0</th>\n",
       "      <td>1</td>\n",
       "      <td>1</td>\n",
       "      <td>1.82</td>\n",
       "      <td>8.5</td>\n",
       "      <td>0.0</td>\n",
       "      <td>100.0</td>\n",
       "    </tr>\n",
       "    <tr>\n",
       "      <th>1</th>\n",
       "      <td>0</td>\n",
       "      <td>1</td>\n",
       "      <td>8.74</td>\n",
       "      <td>null</td>\n",
       "      <td>0.0</td>\n",
       "      <td>100.0</td>\n",
       "    </tr>\n",
       "    <tr>\n",
       "      <th>2</th>\n",
       "      <td>0</td>\n",
       "      <td>4</td>\n",
       "      <td>1.53</td>\n",
       "      <td>9.5</td>\n",
       "      <td>0.0</td>\n",
       "      <td>0.0</td>\n",
       "    </tr>\n",
       "    <tr>\n",
       "      <th>3</th>\n",
       "      <td>1</td>\n",
       "      <td>0</td>\n",
       "      <td>1.80</td>\n",
       "      <td>10.0</td>\n",
       "      <td>0.0</td>\n",
       "      <td>100.0</td>\n",
       "    </tr>\n",
       "    <tr>\n",
       "      <th>4</th>\n",
       "      <td>1</td>\n",
       "      <td>1</td>\n",
       "      <td>12.49</td>\n",
       "      <td>9.0</td>\n",
       "      <td>0.0</td>\n",
       "      <td>25.0</td>\n",
       "    </tr>\n",
       "  </tbody>\n",
       "</table>\n",
       "</div>"
      ],
      "text/plain": [
       "   luxury_car_user  trips_in_first_30_days  avg_dist sum_rating  surge_pct  \\\n",
       "0                1                       1      1.82        8.5        0.0   \n",
       "1                0                       1      8.74       null        0.0   \n",
       "2                0                       4      1.53        9.5        0.0   \n",
       "3                1                       0      1.80       10.0        0.0   \n",
       "4                1                       1     12.49        9.0        0.0   \n",
       "\n",
       "   weekday_pct  \n",
       "0        100.0  \n",
       "1        100.0  \n",
       "2          0.0  \n",
       "3        100.0  \n",
       "4         25.0  "
      ]
     },
     "execution_count": 4,
     "metadata": {},
     "output_type": "execute_result"
    }
   ],
   "source": [
    "# read in luxury_car_user as int bool                                                       \n",
    "col_types = ['int', 'int', 'float', 'float', 'float', 'float', 'float']\n",
    "bc.create_table('int_bool', path, \n",
    "                dtype=col_types, names=col_names,\n",
    "                true_values=['Yes'], false_values=['No', 'N/a'],\n",
    "                skiprows=249, nrows=850)\n",
    "\n",
    "# how's it look?\n",
    "bc.sql('''\n",
    "       select \n",
    "           luxury_car_user, trips_in_first_30_days, avg_dist, \n",
    "           avg_rating_by_driver + avg_rating_of_driver AS sum_rating, \n",
    "           surge_pct, weekday_pct \n",
    "       from \n",
    "           int_bool\n",
    "       ''').head()"
   ]
  }
 ],
 "metadata": {
  "kernelspec": {
   "display_name": "Python 3",
   "language": "python",
   "name": "python3"
  },
  "language_info": {
   "codemirror_mode": {
    "name": "ipython",
    "version": 3
   },
   "file_extension": ".py",
   "mimetype": "text/x-python",
   "name": "python",
   "nbconvert_exporter": "python",
   "pygments_lexer": "ipython3",
   "version": "3.7.6"
  }
 },
 "nbformat": 4,
 "nbformat_minor": 2
}
