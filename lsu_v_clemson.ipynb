{
 "cells": [
  {
   "cell_type": "code",
   "execution_count": 1,
   "metadata": {},
   "outputs": [],
   "source": [
    "# https://www.google.com/search?q=lsu+schedule+2019&rlz=1C5CHFA_enUS845US845&oq=lsu+sche&aqs=chrome.1.69i57j0l7.4023j0j4&sourceid=chrome&ie=UTF-8#sie=t;/m/0fht9f;6;/m/012hfxch;mt;fp;1;;\n",
    "lsu = {'NW ST':{'score':{'LSU':65, 'NW ST':14}, \n",
    "                'opponent rank':False},\n",
    "       '':''}"
   ]
  },
  {
   "cell_type": "code",
   "execution_count": 2,
   "metadata": {},
   "outputs": [
    {
     "data": {
      "text/plain": [
       "{'LSU': 65, 'NW ST': 14}"
      ]
     },
     "execution_count": 2,
     "metadata": {},
     "output_type": "execute_result"
    }
   ],
   "source": [
    "lsu['NW ST']['score']"
   ]
  },
  {
   "cell_type": "code",
   "execution_count": 3,
   "metadata": {},
   "outputs": [],
   "source": [
    "# https://fbschedules.com/clemson-football-schedule/\n",
    "clemson = {'Georgia Tech':{'score':{'Clemson':52, 'Georgia Tech':14},\n",
    "                           'opponent rank':False},\n",
    "           '':''}"
   ]
  },
  {
   "cell_type": "code",
   "execution_count": 4,
   "metadata": {},
   "outputs": [
    {
     "data": {
      "text/plain": [
       "{'Clemson': 52, 'Georgia Tech': 14}"
      ]
     },
     "execution_count": 4,
     "metadata": {},
     "output_type": "execute_result"
    }
   ],
   "source": [
    "clemson['Georgia Tech']['score']"
   ]
  }
 ],
 "metadata": {
  "kernelspec": {
   "display_name": "Python 3",
   "language": "python",
   "name": "python3"
  },
  "language_info": {
   "codemirror_mode": {
    "name": "ipython",
    "version": 3
   },
   "file_extension": ".py",
   "mimetype": "text/x-python",
   "name": "python",
   "nbconvert_exporter": "python",
   "pygments_lexer": "ipython3",
   "version": "3.7.6"
  }
 },
 "nbformat": 4,
 "nbformat_minor": 2
}
