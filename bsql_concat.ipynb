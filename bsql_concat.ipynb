{
 "cells": [
  {
   "cell_type": "markdown",
   "metadata": {},
   "source": [
    "### Data setup\n",
    "The cell below checks if you have the data for this demo, and, if you don't, will download it for you. \n",
    "\n",
    "Once that is complete, the path to the data will be identified and set to the variable `data_path` for your convenience. "
   ]
  },
  {
   "cell_type": "code",
   "execution_count": 1,
   "metadata": {},
   "outputs": [
    {
     "name": "stdout",
     "output_type": "stream",
     "text": [
      "Downloading https://github.com/gumdropsteve/silent-disco/raw/master/data/taxi_sample.csv to data/taxi_sample.csv\n",
      "--2020-01-27 23:02:04--  https://github.com/gumdropsteve/silent-disco/raw/master/data/taxi_sample.csv\n",
      "Resolving github.com (github.com)... 140.82.114.3\n",
      "Connecting to github.com (github.com)|140.82.114.3|:443... connected.\n",
      "HTTP request sent, awaiting response... 302 Found\n",
      "Location: https://raw.githubusercontent.com/gumdropsteve/silent-disco/master/data/taxi_sample.csv [following]\n",
      "--2020-01-27 23:02:04--  https://raw.githubusercontent.com/gumdropsteve/silent-disco/master/data/taxi_sample.csv\n",
      "Resolving raw.githubusercontent.com (raw.githubusercontent.com)... 151.101.248.133\n",
      "Connecting to raw.githubusercontent.com (raw.githubusercontent.com)|151.101.248.133|:443... connected.\n",
      "HTTP request sent, awaiting response... 200 OK\n",
      "Length: 1693592 (1.6M) [text/plain]\n",
      "Saving to: ‘data/taxi_sample.csv’\n",
      "\n",
      "taxi_sample.csv     100%[===================>]   1.61M  --.-KB/s    in 0.01s   \n",
      "\n",
      "2020-01-27 23:02:04 (109 MB/s) - ‘data/taxi_sample.csv’ saved [1693592/1693592]\n",
      "\n",
      "CPU times: user 8.25 ms, sys: 4.74 ms, total: 13 ms\n",
      "Wall time: 462 ms\n"
     ]
    }
   ],
   "source": [
    "%%time\n",
    "import os\n",
    "import urllib \n",
    "\n",
    "# tag raw data dir & file name\n",
    "base_url = 'https://github.com/gumdropsteve/silent-disco/raw/master/data/'\n",
    "fn = 'taxi_sample.csv'\n",
    "# check if we already have the file\n",
    "if not os.path.isfile('data/' + fn):\n",
    "    # we don't let me know we're downloading it now\n",
    "    print(f'Downloading {base_url + fn} to data/{fn}')\n",
    "    # download file\n",
    "    !wget -P data 'https://github.com/gumdropsteve/silent-disco/raw/master/data/taxi_sample.csv'\n",
    "# we already have data\n",
    "else:\n",
    "    # let us know\n",
    "    print(f'data/{fn} already downloaded')\n",
    "    \n",
    "# identify current working directory\n",
    "cwd = os.getcwd()\n",
    "# add relative path to data for full path\n",
    "data_path = cwd + '/data/taxi_sample.csv'"
   ]
  },
  {
   "cell_type": "markdown",
   "metadata": {},
   "source": [
    "## CONCAT with BlazingSQL"
   ]
  },
  {
   "cell_type": "code",
   "execution_count": 2,
   "metadata": {},
   "outputs": [
    {
     "name": "stdout",
     "output_type": "stream",
     "text": [
      "BlazingContext ready\n"
     ]
    }
   ],
   "source": [
    "from blazingsql import BlazingContext\n",
    "# connect to BlazingSQL\n",
    "bc = BlazingContext()"
   ]
  },
  {
   "cell_type": "code",
   "execution_count": 3,
   "metadata": {},
   "outputs": [
    {
     "data": {
      "text/plain": [
       "<pyblazing.apiv2.context.BlazingTable at 0x7f42d4065898>"
      ]
     },
     "execution_count": 3,
     "metadata": {},
     "output_type": "execute_result"
    }
   ],
   "source": [
    "# create base table\n",
    "bc.create_table('taxi', data_path, header=0)"
   ]
  },
  {
   "cell_type": "code",
   "execution_count": 4,
   "metadata": {},
   "outputs": [
    {
     "data": {
      "text/html": [
       "<div>\n",
       "<style scoped>\n",
       "    .dataframe tbody tr th:only-of-type {\n",
       "        vertical-align: middle;\n",
       "    }\n",
       "\n",
       "    .dataframe tbody tr th {\n",
       "        vertical-align: top;\n",
       "    }\n",
       "\n",
       "    .dataframe thead th {\n",
       "        text-align: right;\n",
       "    }\n",
       "</style>\n",
       "<table border=\"1\" class=\"dataframe\">\n",
       "  <thead>\n",
       "    <tr style=\"text-align: right;\">\n",
       "      <th></th>\n",
       "      <th>cost_per_rider</th>\n",
       "      <th>payment_id</th>\n",
       "      <th>vendor_flag</th>\n",
       "    </tr>\n",
       "  </thead>\n",
       "  <tbody>\n",
       "    <tr>\n",
       "      <th>1910</th>\n",
       "      <td>7.800000</td>\n",
       "      <td>2-1</td>\n",
       "      <td>1N</td>\n",
       "    </tr>\n",
       "    <tr>\n",
       "      <th>1214</th>\n",
       "      <td>12.800000</td>\n",
       "      <td>2-1</td>\n",
       "      <td>1N</td>\n",
       "    </tr>\n",
       "    <tr>\n",
       "      <th>4457</th>\n",
       "      <td>11.600000</td>\n",
       "      <td>1-1</td>\n",
       "      <td>2N</td>\n",
       "    </tr>\n",
       "    <tr>\n",
       "      <th>2414</th>\n",
       "      <td>7.800000</td>\n",
       "      <td>1-1</td>\n",
       "      <td>1N</td>\n",
       "    </tr>\n",
       "    <tr>\n",
       "      <th>780</th>\n",
       "      <td>5.300000</td>\n",
       "      <td>2-1</td>\n",
       "      <td>1N</td>\n",
       "    </tr>\n",
       "    <tr>\n",
       "      <th>1326</th>\n",
       "      <td>17.760000</td>\n",
       "      <td>1-1</td>\n",
       "      <td>1N</td>\n",
       "    </tr>\n",
       "    <tr>\n",
       "      <th>5160</th>\n",
       "      <td>3.866667</td>\n",
       "      <td>1-1</td>\n",
       "      <td>2N</td>\n",
       "    </tr>\n",
       "    <tr>\n",
       "      <th>9899</th>\n",
       "      <td>7.800000</td>\n",
       "      <td>1-1</td>\n",
       "      <td>1N</td>\n",
       "    </tr>\n",
       "    <tr>\n",
       "      <th>2602</th>\n",
       "      <td>10.400000</td>\n",
       "      <td>1-1</td>\n",
       "      <td>2N</td>\n",
       "    </tr>\n",
       "    <tr>\n",
       "      <th>4945</th>\n",
       "      <td>1.480000</td>\n",
       "      <td>1-1</td>\n",
       "      <td>2N</td>\n",
       "    </tr>\n",
       "    <tr>\n",
       "      <th>6313</th>\n",
       "      <td>6.900000</td>\n",
       "      <td>2-1</td>\n",
       "      <td>1N</td>\n",
       "    </tr>\n",
       "    <tr>\n",
       "      <th>2674</th>\n",
       "      <td>9.300000</td>\n",
       "      <td>2-1</td>\n",
       "      <td>1N</td>\n",
       "    </tr>\n",
       "    <tr>\n",
       "      <th>7171</th>\n",
       "      <td>9.150000</td>\n",
       "      <td>1-1</td>\n",
       "      <td>2N</td>\n",
       "    </tr>\n",
       "    <tr>\n",
       "      <th>1157</th>\n",
       "      <td>17.800000</td>\n",
       "      <td>1-1</td>\n",
       "      <td>1N</td>\n",
       "    </tr>\n",
       "    <tr>\n",
       "      <th>2793</th>\n",
       "      <td>15.300000</td>\n",
       "      <td>2-1</td>\n",
       "      <td>2N</td>\n",
       "    </tr>\n",
       "    <tr>\n",
       "      <th>343</th>\n",
       "      <td>9.300000</td>\n",
       "      <td>2-1</td>\n",
       "      <td>1N</td>\n",
       "    </tr>\n",
       "    <tr>\n",
       "      <th>9771</th>\n",
       "      <td>15.350000</td>\n",
       "      <td>1-1</td>\n",
       "      <td>1N</td>\n",
       "    </tr>\n",
       "    <tr>\n",
       "      <th>5284</th>\n",
       "      <td>4.800000</td>\n",
       "      <td>2-1</td>\n",
       "      <td>2N</td>\n",
       "    </tr>\n",
       "    <tr>\n",
       "      <th>8866</th>\n",
       "      <td>13.560000</td>\n",
       "      <td>1-1</td>\n",
       "      <td>1N</td>\n",
       "    </tr>\n",
       "    <tr>\n",
       "      <th>1251</th>\n",
       "      <td>5.800000</td>\n",
       "      <td>1-1</td>\n",
       "      <td>1N</td>\n",
       "    </tr>\n",
       "  </tbody>\n",
       "</table>\n",
       "</div>"
      ],
      "text/plain": [
       "      cost_per_rider payment_id vendor_flag\n",
       "1910        7.800000        2-1          1N\n",
       "1214       12.800000        2-1          1N\n",
       "4457       11.600000        1-1          2N\n",
       "2414        7.800000        1-1          1N\n",
       "780         5.300000        2-1          1N\n",
       "1326       17.760000        1-1          1N\n",
       "5160        3.866667        1-1          2N\n",
       "9899        7.800000        1-1          1N\n",
       "2602       10.400000        1-1          2N\n",
       "4945        1.480000        1-1          2N\n",
       "6313        6.900000        2-1          1N\n",
       "2674        9.300000        2-1          1N\n",
       "7171        9.150000        1-1          2N\n",
       "1157       17.800000        1-1          1N\n",
       "2793       15.300000        2-1          2N\n",
       "343         9.300000        2-1          1N\n",
       "9771       15.350000        1-1          1N\n",
       "5284        4.800000        2-1          2N\n",
       "8866       13.560000        1-1          1N\n",
       "1251        5.800000        1-1          1N"
      ]
     },
     "execution_count": 4,
     "metadata": {},
     "output_type": "execute_result"
    }
   ],
   "source": [
    "# calculate cost/rider, $type-rateid & vndr-id + flag\n",
    "query = '''\n",
    "        select \n",
    "            total_amount / passenger_count AS cost_per_rider, \n",
    "            payment_type || '-' || RateCodeID AS payment_id,\n",
    "            VendorID || store_and_fwd_flag AS vendor_flag\n",
    "        from \n",
    "            taxi\n",
    "            '''\n",
    "# run query \n",
    "gdf = bc.sql(query)\n",
    "# how's it look?\n",
    "gdf.to_pandas().sample(20)"
   ]
  }
 ],
 "metadata": {
  "kernelspec": {
   "display_name": "Python 3",
   "language": "python",
   "name": "python3"
  },
  "language_info": {
   "codemirror_mode": {
    "name": "ipython",
    "version": 3
   },
   "file_extension": ".py",
   "mimetype": "text/x-python",
   "name": "python",
   "nbconvert_exporter": "python",
   "pygments_lexer": "ipython3",
   "version": "3.6.7"
  }
 },
 "nbformat": 4,
 "nbformat_minor": 4
}
