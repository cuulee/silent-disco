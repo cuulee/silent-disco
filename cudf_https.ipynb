{
  "nbformat": 4,
  "nbformat_minor": 0,
  "metadata": {
    "colab": {
      "name": "cudf_https.ipynb",
      "provenance": [],
      "authorship_tag": "ABX9TyPcxVGEBPuonkxxNtrKa67q",
      "include_colab_link": true
    },
    "kernelspec": {
      "name": "python3",
      "display_name": "Python 3"
    }
  },
  "cells": [
    {
      "cell_type": "markdown",
      "metadata": {
        "id": "view-in-github",
        "colab_type": "text"
      },
      "source": [
        "<a href=\"https://colab.research.google.com/github/gumdropsteve/silent-disco/blob/master/cudf_https.ipynb\" target=\"_parent\"><img src=\"https://colab.research.google.com/assets/colab-badge.svg\" alt=\"Open In Colab\"/></a>"
      ]
    },
    {
      "cell_type": "code",
      "metadata": {
        "id": "6oS5_hfjaPbG",
        "colab_type": "code",
        "colab": {}
      },
      "source": [
        "import cudf\n",
        "from blazingsql import BlazingContext\n",
        "# start up BlazingSQL \n",
        "bc = BlazingContext()"
      ],
      "execution_count": 0,
      "outputs": []
    },
    {
      "cell_type": "code",
      "metadata": {
        "id": "8KMPoch7aU9s",
        "colab_type": "code",
        "colab": {}
      },
      "source": [
        "%%time\n",
        "# create table from https via cuDF (Open Data 500 Companies by BRANDON GADOCI)\n",
        "bc.create_table('us_500', cudf.read_csv('https://query.data.world/s/rk75ncq6s7s4gykc2h3mxf5yxc64hz'))\n",
        "\n",
        "# query table \n",
        "bc.sql('select * from us_500')"
      ],
      "execution_count": 0,
      "outputs": []
    },
    {
      "cell_type": "code",
      "metadata": {
        "id": "zBE-OXJhaVAt",
        "colab_type": "code",
        "colab": {}
      },
      "source": [
        "%%time\n",
        "# create table from https via cuDF (Cryptocurrency Price by Day/Hr (2013 - 2018) (w/Bitcoin) by CHASE WILLDEN)\n",
        "bc.create_table('crypto', cudf.read_csv('https://query.data.world/s/2mtilbhnxmxvzdgkn4l32ivxc44ylb'))\n",
        "\n",
        "# query table \n",
        "bc.sql('select * from crypto')"
      ],
      "execution_count": 0,
      "outputs": []
    }
  ]
}